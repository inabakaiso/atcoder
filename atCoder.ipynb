{
 "cells": [
  {
   "cell_type": "markdown",
   "metadata": {
    "collapsed": true,
    "pycharm": {
     "name": "#%% md\n"
    }
   },
   "source": [
    "##　典型問題 90問"
   ]
  },
  {
   "cell_type": "code",
   "execution_count": 8,
   "outputs": [
    {
     "name": "stdout",
     "output_type": "stream",
     "text": [
      "100 50 0\n",
      "50 25 0\n",
      "50 37 25\n",
      "50 43 37\n",
      "50 46 43\n",
      "50 48 46\n",
      "48 47 46\n",
      "46\n"
     ]
    }
   ],
   "source": [
    "###########################\n",
    "#  1. Yokan\n",
    "###########################\n",
    "\n",
    "## solution => ようかんの最小値をスコアとしてそのスコアの最大を求めればよい。(二分探索法)\n",
    "\n",
    "##input\n",
    "n, l = map(int, input().split())\n",
    "k = int(input())\n",
    "a = list(map(int, input().split()))\n",
    "\n",
    "def solve(mid):\n",
    "    tmp_val = 0 # 切った羊羹の長さ\n",
    "    cut_cnt = 0 # 羊羹を切る数\n",
    "    for i in range(n):\n",
    "        if a[i] - tmp_val >= mid and l - a[i] >= mid:\n",
    "            cut_cnt += 1\n",
    "            tmp_val = a[i]\n",
    "    if cut_cnt >= k:\n",
    "        return True\n",
    "    else:\n",
    "        False\n",
    "right = l\n",
    "left = 0\n",
    "while right - left > 1:\n",
    "    mid = (right + left) // 2\n",
    "    print(right,mid, left)\n",
    "    if solve(mid):\n",
    "        left = mid\n",
    "    else:\n",
    "        right = mid\n",
    "print(left)"
   ],
   "metadata": {
    "collapsed": false,
    "pycharm": {
     "name": "#%%\n"
    }
   }
  },
  {
   "cell_type": "code",
   "execution_count": 10,
   "outputs": [
    {
     "name": "stdout",
     "output_type": "stream",
     "text": [
      "(())\n",
      "()()\n"
     ]
    }
   ],
   "source": [
    "##################################\n",
    "#   Encyclopedia of Parentheses  #\n",
    "##################################\n",
    "\n",
    "from itertools import product\n",
    "\n",
    "# input => element about ()\n",
    "n = int(input())\n",
    "\n",
    "\"\"\"\n",
    "　完全なるbit全探索問題\n",
    "2**N通りに場合分けすることが可能\n",
    "この類の問題はscoreを用いて出現回数によってscoreが0以上になる場合を評価していく\n",
    "\n",
    "Dividing case\n",
    "if n % 2 == 0  :  correct\n",
    "else : not correct\n",
    "and n is not 0\n",
    "\"\"\"\n",
    "\n",
    "def check_score(val):\n",
    "    score = 0\n",
    "    for c in val:\n",
    "        if c == '(':\n",
    "            score += 1\n",
    "        else:\n",
    "            score -= 1\n",
    "\n",
    "        if score < 0:\n",
    "            return False\n",
    "\n",
    "    return (score == 0)\n",
    "\n",
    "for val in product(['(', ')'], repeat=n):\n",
    "    if check_score(val):\n",
    "        ##　ここの表現初めて見た\n",
    "        ##  for分でネストさせたときにifで条件指定 => 条件通過するものだけ蓄積して連結させて出力\n",
    "        print(*val, sep='')"
   ],
   "metadata": {
    "collapsed": false,
    "pycharm": {
     "name": "#%%\n"
    }
   }
  },
  {
   "cell_type": "code",
   "execution_count": null,
   "outputs": [],
   "source": [],
   "metadata": {
    "collapsed": false,
    "pycharm": {
     "name": "#%%\n"
    }
   }
  }
 ],
 "metadata": {
  "kernelspec": {
   "display_name": "Python 3",
   "language": "python",
   "name": "python3"
  },
  "language_info": {
   "codemirror_mode": {
    "name": "ipython",
    "version": 2
   },
   "file_extension": ".py",
   "mimetype": "text/x-python",
   "name": "python",
   "nbconvert_exporter": "python",
   "pygments_lexer": "ipython2",
   "version": "2.7.6"
  }
 },
 "nbformat": 4,
 "nbformat_minor": 0
}