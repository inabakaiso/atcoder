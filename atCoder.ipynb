{
 "cells": [
  {
   "cell_type": "markdown",
   "metadata": {
    "collapsed": true,
    "pycharm": {
     "name": "#%% md\n"
    }
   },
   "source": [
    "##　典型問題 90問"
   ]
  },
  {
   "cell_type": "code",
   "execution_count": 2,
   "outputs": [
    {
     "name": "stdout",
     "output_type": "stream",
     "text": [
      "13\n"
     ]
    }
   ],
   "source": [
    "###########################\n",
    "#  1. Yokan\n",
    "###########################\n",
    "\n",
    "## solution => ようかんの最小値をスコアとしてそのスコアの最大を求めればよい。(二分探索法)\n",
    "\n",
    "##input\n",
    "n, l = map(int, input().split())\n",
    "k = int(input())\n",
    "a_n = list(map(int, input().split()))\n",
    "\n",
    "#関数ないで条件にマッチするかの条件分岐\n",
    "def checker(mid):\n",
    "    num = 0\n",
    "    pre = 0\n",
    "\n",
    "    for i in range(n):\n",
    "        if a_n[i] - pre >= mid and l - pre >= mid:\n",
    "            num += 1\n",
    "            pre = a_n[i]\n",
    "\n",
    "        if num >= k + 1:\n",
    "            return True\n",
    "        else:\n",
    "            return False\n",
    "\n",
    "##########################\n",
    "#　　　二分探索アルゴリズム   #\n",
    "#########################\n",
    "\n",
    "right = l\n",
    "left = 0\n",
    "\n",
    "while right - left > 1:\n",
    "    mid = (right - left) // 2\n",
    "    \n",
    "    if checker(mid):\n",
    "        right = mid\n",
    "    else:\n",
    "        left = mid\n",
    "\n",
    "print(left)\n",
    "\n",
    "\n"
   ],
   "metadata": {
    "collapsed": false,
    "pycharm": {
     "name": "#%%\n"
    }
   }
  },
  {
   "cell_type": "code",
   "execution_count": null,
   "outputs": [],
   "source": [],
   "metadata": {
    "collapsed": false,
    "pycharm": {
     "name": "#%%\n"
    }
   }
  }
 ],
 "metadata": {
  "kernelspec": {
   "display_name": "Python 3",
   "language": "python",
   "name": "python3"
  },
  "language_info": {
   "codemirror_mode": {
    "name": "ipython",
    "version": 2
   },
   "file_extension": ".py",
   "mimetype": "text/x-python",
   "name": "python",
   "nbconvert_exporter": "python",
   "pygments_lexer": "ipython2",
   "version": "2.7.6"
  }
 },
 "nbformat": 4,
 "nbformat_minor": 0
}