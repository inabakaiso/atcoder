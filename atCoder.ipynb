{
 "cells": [
  {
   "cell_type": "markdown",
   "metadata": {
    "collapsed": true,
    "pycharm": {
     "name": "#%% md\n"
    }
   },
   "source": [
    "##　典型問題 90問"
   ]
  },
  {
   "cell_type": "code",
   "execution_count": 8,
   "outputs": [
    {
     "name": "stdout",
     "output_type": "stream",
     "text": [
      "100 50 0\n",
      "50 25 0\n",
      "50 37 25\n",
      "50 43 37\n",
      "50 46 43\n",
      "50 48 46\n",
      "48 47 46\n",
      "46\n"
     ]
    }
   ],
   "source": [
    "###########################\n",
    "#  1. Yokan\n",
    "###########################\n",
    "\n",
    "## solution => ようかんの最小値をスコアとしてそのスコアの最大を求めればよい。(二分探索法)\n",
    "\n",
    "##input\n",
    "n, l = map(int, input().split())\n",
    "k = int(input())\n",
    "a = list(map(int, input().split()))\n",
    "\n",
    "def solve(mid):\n",
    "    \"\"\" ある羊羹の切れ目の間隔の最小値候補が条件を満たすか否かを判定する\n",
    "    Args:\n",
    "        mid (int): [羊羹の切れ目の間隔の最小値候補]\n",
    "    Returns:\n",
    "        boolean: [判定対象のindex が条件を満たすかどうか]\n",
    "    \"\"\"\n",
    "    tmp_val = 0 # 切った羊羹の長さ\n",
    "    cut_cnt = 0 # 羊羹を切る数\n",
    "    for i in range(n):\n",
    "        if a[i] - tmp_val >= mid and l - a[i] >= mid:\n",
    "            cut_cnt += 1\n",
    "            tmp_val = a[i]\n",
    "    if cut_cnt >= k:\n",
    "        return True\n",
    "    else:\n",
    "        False\n",
    "right = l\n",
    "left = 0\n",
    "while right - left > 1:\n",
    "    mid = (right + left) // 2\n",
    "    print(right,mid, left)\n",
    "    if solve(mid):\n",
    "        left = mid\n",
    "    else:\n",
    "        right = mid\n",
    "print(left)"
   ],
   "metadata": {
    "collapsed": false,
    "pycharm": {
     "name": "#%%\n"
    }
   }
  },
  {
   "cell_type": "code",
   "execution_count": 10,
   "outputs": [
    {
     "name": "stdout",
     "output_type": "stream",
     "text": [
      "(())\n",
      "()()\n"
     ]
    }
   ],
   "source": [
    "##################################\n",
    "#   Encyclopedia of Parentheses  #\n",
    "##################################\n",
    "\n",
    "from itertools import product\n",
    "\n",
    "# input => element about ()\n",
    "n = int(input())\n",
    "\n",
    "\"\"\"\n",
    "　完全なるbit全探索問題\n",
    "2**N通りに場合分けすることが可能\n",
    "この類の問題はscoreを用いて出現回数によってscoreが0以上になる場合を評価していく\n",
    "\n",
    "Dividing case\n",
    "if n % 2 == 0  :  correct\n",
    "else : not correct\n",
    "and n is not 0\n",
    "\"\"\"\n",
    "\n",
    "def check_score(val):\n",
    "    score = 0\n",
    "    for c in val:\n",
    "        if c == '(':\n",
    "            score += 1\n",
    "        else:\n",
    "            score -= 1\n",
    "\n",
    "        if score < 0:\n",
    "            return False\n",
    "\n",
    "    return (score == 0)\n",
    "\n",
    "for val in product(['(', ')'], repeat=n):\n",
    "    if check_score(val):\n",
    "        ##　ここの表現初めて見た\n",
    "        ##  for分でネストさせたときにifで条件指定 => 条件通過するものだけ蓄積して連結させて出力\n",
    "        print(*val, sep='')"
   ],
   "metadata": {
    "collapsed": false,
    "pycharm": {
     "name": "#%%\n"
    }
   }
  },
  {
   "cell_type": "code",
   "execution_count": 7,
   "outputs": [
    {
     "name": "stdout",
     "output_type": "stream",
     "text": [
      "[0]\n",
      "[2]\n",
      "3\n"
     ]
    }
   ],
   "source": [
    "#########################################\n",
    "#  Longest Circular Road                #\n",
    "#########################################\n",
    "##　幅優先探索 (BFS)\n",
    "# グラフや木構造を探索するためのアルゴリズムの一つで、探索を開始する頂点から近い順に探索する方式。\n",
    "# http://www.dais.is.tohoku.ac.jp/~shioura/teaching/ad09/ad09-09.pdf\n",
    "\n",
    "### input => the num of city\n",
    "n = int(input())\n",
    "\n",
    "\n",
    "###　有向隣接グラフの作成\n",
    "#https://qiita.com/ell/items/2a327fe021fb7dafe07a\n",
    "\n",
    "#頂点の数回す\n",
    "graph = [[] for _ in range(n)]\n",
    "#辺の数だけfor文で回す\n",
    "for i in range(n-1):\n",
    "    a, b = map(int, input().split())\n",
    "    a, b = a - 1, b - 1\n",
    "    graph[a].append(b)\n",
    "    graph[b].append(a)  ##　今回は有向ではないので必要\n",
    "\n",
    "#　深さ幅優先探索\n",
    "def dfs(s):\n",
    "    dist = [-1] * n\n",
    "    dist[s] = 0\n",
    "    st = [s]\n",
    "    print(st)\n",
    "    while st:\n",
    "        #stは空配列\n",
    "        v = st.pop()\n",
    "        #グラフの0行目から探索\n",
    "        for nv in graph[v]:\n",
    "            if dist[nv] == -1:\n",
    "                st.append(nv)\n",
    "                dist[nv] = dist[v] + 1\n",
    "\n",
    "    return dist\n",
    "\n",
    "dist0 = dfs(0)\n",
    "mv = max(enumerate(dist0), key=lambda x:x[1])[0]\n",
    "distmv = dfs(mv)\n",
    "print(max(distmv) + 1)\n"
   ],
   "metadata": {
    "collapsed": false,
    "pycharm": {
     "name": "#%%\n"
    }
   }
  },
  {
   "cell_type": "code",
   "execution_count": 2,
   "outputs": [
    {
     "name": "stdout",
     "output_type": "stream",
     "text": [
      "deque(['k'])\n",
      "deque(['k'])\n",
      "deque(['i'])\n",
      "deque(['i', 't'])\n",
      "deque(['i', 't', 't'])\n",
      "deque(['i', 't', 't', 'y'])\n",
      "deque(['i', 't', 't', 'y'])\n",
      "deque(['i', 't', 't'])\n",
      "deque(['i', 't'])\n",
      "deque(['i', 'o'])\n",
      "deque(['i', 'o'])\n",
      "deque(['i', 'n'])\n",
      "deque(['i', 'n', 'y'])\n",
      "deque(['i', 'n', 'y'])\n",
      "deque(['i', 'n', 'o'])\n",
      "deque(['i', 'n', 'o', 'u'])\n",
      "deque(['n', 'o', 'u'])\n",
      "deque(['n', 'o', 'r'])\n",
      "deque(['o', 'r'])\n",
      "deque(['o'])\n",
      "deque(['l'])\n",
      "deque(['a'])\n",
      "deque(['p'])\n",
      "inlap\n"
     ]
    }
   ],
   "source": [
    "## Smallest Subsequence\n",
    "\n",
    "#solution\n",
    "# 文字列s内で文字を1つずつ抽出し、それらのなかで辞書順を作る\n",
    "\n",
    "from collections import deque\n",
    "\n",
    "n, k = map(int, input().split())\n",
    "\n",
    "s = input()\n",
    "q = deque()\n",
    "\n",
    "word = ''\n",
    "\n",
    "for i, j in enumerate(s):\n",
    "    # リストが空になるまでループ\n",
    "    while q and (q[-1] > j):\n",
    "        #リスト最初の要素を削除して取り出す\n",
    "        # insert(0, v)　先頭に要素を追加する\n",
    "        print(q)\n",
    "        q.pop()\n",
    "    q.append(j)\n",
    "    print(q)\n",
    "\n",
    "    #　n -k　によって確実にk個抽出できるようにしている\n",
    "    if i >= n - k:\n",
    "        word += q.popleft()\n",
    "\n",
    "print(word)\n"
   ],
   "metadata": {
    "collapsed": false,
    "pycharm": {
     "name": "#%%\n"
    }
   }
  },
  {
   "cell_type": "code",
   "execution_count": 16,
   "outputs": [
    {
     "name": "stdout",
     "output_type": "stream",
     "text": [
      "1\n",
      "2\n",
      "1\n",
      "999\n"
     ]
    }
   ],
   "source": [
    "## CP Classes\n",
    "import numpy as np\n",
    "\n",
    "from bisect import bisect_left\n",
    "N = int(input())\n",
    "A = list(map(int, input().split()))\n",
    "Q = int(input())\n",
    "A.sort()\n",
    "for _ in range(Q):\n",
    "    b = int(input())\n",
    "    # sort したときに自身に一番近い数字のindexを返す\n",
    "    i = bisect_left(A, b)\n",
    "    print(i)\n",
    "    u = 10**18\n",
    "    if i < N:\n",
    "        u = min(u, np.abs(A[i] - b))\n",
    "    if i > 0:\n",
    "        u = min(u, np.abs(A[i - 1] - b))\n",
    "    print(u)"
   ],
   "metadata": {
    "collapsed": false,
    "pycharm": {
     "name": "#%%\n"
    }
   }
  },
  {
   "cell_type": "markdown",
   "source": [
    "##動的計画法 DP法\n",
    "\n",
    "dp[0]: 何も選ばない状態\n",
    "dp[1]: 0番目までの整数の中から整数を選んで総和を取った時の総和の最大値\n",
    "  :\n",
    "dp[i+1]: i番目までの ...\n",
    "\n",
    "求める値はdp[n]\n",
    "\n",
    "既に dp[i]の値が求まっていることを前提に、dp[i+1]の値を求めることを考える。\n",
    "dp[i]を使って dp[i+1]について考えるとき\n",
    "a[0],a[1],…,a[i−1]のどれを選んだらよいかが既に決まっているため\n",
    "a[i]を選ぶか選ばないかだけ決めればよい。"
   ],
   "metadata": {
    "collapsed": false,
    "pycharm": {
     "name": "#%% md\n"
    }
   }
  },
  {
   "cell_type": "code",
   "execution_count": null,
   "outputs": [],
   "source": [
    "'''\n",
    "\n",
    "　訓練問題\n",
    "番号 1 〜 N の足場がある。足場 i（1≦i≦N）の高さは h[i] である。\n",
    "足場 i から 足場 j への移動では |h[i]−h[j]| のコストがかかる。\n",
    "足場 i へ移動できるのは、足場 i−1 と i−2 のみである。足場 1 から足場 N への移動に必要な最小コストを求めよ。\n",
    "\n",
    "'''\n",
    "\n",
    "n = int(input())\n",
    "h = list(map(int, input().split()))\n",
    "\n",
    "# DP 配列を用意\n",
    "# dp[i] には i 番目の足場にたどり着くために必要な最低コストを入れる\n",
    "dp = [0]*n\n",
    "\n",
    "#初期条件を入力\n",
    "dp[0] = 0\n",
    "dp[1] = abs(h[1] - h[0])\n",
    "\n",
    "for i in range(2, n):\n",
    "    # i を現在いる足場と考える。\n",
    "    # i 番目の足場へ行く方法として i-i 番目からのジャンプと i-2 番目からのジャンプがある\n",
    "    # 2 通りの行き方のうちコストの少ない方を dp[i] とする\n",
    "    dp[i] = min(dp[i-2]+abs(h[i]-h[i-2]),dp[i-1]+abs(h[i]-h[i-1]))\n",
    "\n",
    "print(dp[-1])"
   ],
   "metadata": {
    "collapsed": false,
    "pycharm": {
     "name": "#%%\n"
    }
   }
  },
  {
   "cell_type": "code",
   "execution_count": null,
   "outputs": [],
   "source": [
    "'''\n",
    "\n",
    "#訓練問題\n",
    "番号 1 〜 N の足場がある。\n",
    "足場 i（1≦i≦N）の高さは h[i] である。足場 i から 足場 j への移動では\n",
    "|h[i]−h[j]| のコストがかかる。\n",
    "足場 i へ移動できる足場は、i−1 、 i−2 、......、 i−K の K 個である。足場 1 から足場 N への移動に必要な最小コストを求めよ。\n",
    "\n",
    "'''\n",
    "n, k = map(int, input().split())\n",
    "h = list(map(int, input().split()))\n",
    "\n",
    "dp = [0]*n\n",
    "dp[0] = 0\n",
    "\n",
    "for i in range(1,n):\n",
    "    tmp = []\n",
    "    for m in range(max(0,i-k), i):\n",
    "        tmp.append(abs(h[m]-h[i])+dp[m])\n",
    "    dp[i] = min(tmp)\n",
    "\n",
    "print(dp[-1])"
   ],
   "metadata": {
    "collapsed": false,
    "pycharm": {
     "name": "#%%\n"
    }
   }
  },
  {
   "cell_type": "code",
   "execution_count": null,
   "outputs": [],
   "source": [
    "'''\n",
    "訓練問題\n",
    "太郎くんは N 日間の夏休みを過ごす。\n",
    "i　(1≦i≦N) 日目の太郎くんは行動 A、B、C のどれかひとつをとることで\n",
    "幸福度 ai、bi、ci をそれぞれ得る。\n",
    "太郎くんが夏休みで得られる最大幸福度を求めよ。ただし太郎くんは二日連続で同じ行動は取らない。\n",
    "'''\n",
    "\n",
    "n = int(input())\n",
    "\n",
    "# +1は初期値から概算\n",
    "dp = [[0]*3 for i in range(n+1)]\n",
    "\n",
    "dp[0][0] = 0\n",
    "dp[0][1] = 0\n",
    "dp[0][2] = 0\n",
    "\n",
    "for i in range(1,n+1):\n",
    "    a,b,c = map(int,input().split())\n",
    "    dp[i][0] = max(dp[i-1][1]+a, dp[i-1][2]+a)\n",
    "    dp[i][1] = max(dp[i-1][0]+b, dp[i-1][2]+b)\n",
    "    dp[i][1] = max(dp[i-1][0]+c, dp[i-1][1]+c)\n",
    "print(max(dp[-1]))\n"
   ],
   "metadata": {
    "collapsed": false,
    "pycharm": {
     "name": "#%%\n"
    }
   }
  },
  {
   "cell_type": "code",
   "execution_count": 7,
   "outputs": [
    {
     "name": "stdout",
     "output_type": "stream",
     "text": [
      "[[0, 0, 0, 0, 0, 0, 0, 0, 0, 0, 0], [0, 0, 0, 2, 0, 0, 0, 0, 0, 0, 0], [0, 0, 0, 0, 0, 0, 0, 0, 0, 0, 0], [0, 0, 0, 0, 0, 0, 0, 0, 0, 0, 0]]\n",
      "[[0, 0, 0, 0, 0, 0, 0, 0, 0, 0, 0], [0, 0, 0, 2, 2, 0, 0, 0, 0, 0, 0], [0, 0, 0, 0, 0, 0, 0, 0, 0, 0, 0], [0, 0, 0, 0, 0, 0, 0, 0, 0, 0, 0]]\n",
      "[[0, 0, 0, 0, 0, 0, 0, 0, 0, 0, 0], [0, 0, 0, 2, 2, 2, 0, 0, 0, 0, 0], [0, 0, 0, 0, 0, 0, 0, 0, 0, 0, 0], [0, 0, 0, 0, 0, 0, 0, 0, 0, 0, 0]]\n",
      "[[0, 0, 0, 0, 0, 0, 0, 0, 0, 0, 0], [0, 0, 0, 2, 2, 2, 2, 0, 0, 0, 0], [0, 0, 0, 0, 0, 0, 0, 0, 0, 0, 0], [0, 0, 0, 0, 0, 0, 0, 0, 0, 0, 0]]\n",
      "[[0, 0, 0, 0, 0, 0, 0, 0, 0, 0, 0], [0, 0, 0, 2, 2, 2, 2, 2, 0, 0, 0], [0, 0, 0, 0, 0, 0, 0, 0, 0, 0, 0], [0, 0, 0, 0, 0, 0, 0, 0, 0, 0, 0]]\n",
      "[[0, 0, 0, 0, 0, 0, 0, 0, 0, 0, 0], [0, 0, 0, 2, 2, 2, 2, 2, 2, 0, 0], [0, 0, 0, 0, 0, 0, 0, 0, 0, 0, 0], [0, 0, 0, 0, 0, 0, 0, 0, 0, 0, 0]]\n",
      "[[0, 0, 0, 0, 0, 0, 0, 0, 0, 0, 0], [0, 0, 0, 2, 2, 2, 2, 2, 2, 2, 0], [0, 0, 0, 0, 0, 0, 0, 0, 0, 0, 0], [0, 0, 0, 0, 0, 0, 0, 0, 0, 0, 0]]\n",
      "[[0, 0, 0, 0, 0, 0, 0, 0, 0, 0, 0], [0, 0, 0, 2, 2, 2, 2, 2, 2, 2, 2], [0, 0, 0, 0, 0, 0, 0, 0, 0, 0, 0], [0, 0, 0, 0, 0, 0, 0, 0, 0, 0, 0]]\n",
      "[[0, 0, 0, 0, 0, 0, 0, 0, 0, 0, 0], [0, 0, 0, 2, 2, 2, 2, 2, 2, 2, 2], [0, 0, 0, 2, 2, 2, 2, 2, 2, 2, 2], [0, 0, 0, 0, 0, 0, 0, 0, 0, 0, 0]]\n",
      "[[0, 0, 0, 0, 0, 0, 0, 0, 0, 0, 0], [0, 0, 0, 2, 2, 2, 2, 2, 2, 2, 2], [0, 0, 0, 2, 2, 2, 2, 2, 2, 2, 2], [0, 0, 0, 0, 0, 0, 0, 0, 0, 0, 0]]\n",
      "[[0, 0, 0, 0, 0, 0, 0, 0, 0, 0, 0], [0, 0, 0, 2, 2, 2, 2, 2, 2, 2, 2], [0, 0, 0, 2, 2, 2, 2, 2, 2, 2, 2], [0, 0, 0, 0, 0, 0, 0, 0, 0, 0, 0]]\n",
      "[[0, 0, 0, 0, 0, 0, 0, 0, 0, 0, 0], [0, 0, 0, 2, 2, 2, 2, 2, 2, 2, 2], [0, 0, 0, 2, 2, 2, 4, 2, 2, 2, 2], [0, 0, 0, 0, 0, 0, 0, 0, 0, 0, 0]]\n",
      "[[0, 0, 0, 0, 0, 0, 0, 0, 0, 0, 0], [0, 0, 0, 2, 2, 2, 2, 2, 2, 2, 2], [0, 0, 0, 2, 2, 2, 4, 4, 2, 2, 2], [0, 0, 0, 0, 0, 0, 0, 0, 0, 0, 0]]\n",
      "[[0, 0, 0, 0, 0, 0, 0, 0, 0, 0, 0], [0, 0, 0, 2, 2, 2, 2, 2, 2, 2, 2], [0, 0, 0, 2, 2, 2, 4, 4, 4, 2, 2], [0, 0, 0, 0, 0, 0, 0, 0, 0, 0, 0]]\n",
      "[[0, 0, 0, 0, 0, 0, 0, 0, 0, 0, 0], [0, 0, 0, 2, 2, 2, 2, 2, 2, 2, 2], [0, 0, 0, 2, 2, 2, 4, 4, 4, 4, 2], [0, 0, 0, 0, 0, 0, 0, 0, 0, 0, 0]]\n",
      "[[0, 0, 0, 0, 0, 0, 0, 0, 0, 0, 0], [0, 0, 0, 2, 2, 2, 2, 2, 2, 2, 2], [0, 0, 0, 2, 2, 2, 4, 4, 4, 4, 4], [0, 0, 0, 0, 0, 0, 0, 0, 0, 0, 0]]\n",
      "[[0, 0, 0, 0, 0, 0, 0, 0, 0, 0, 0], [0, 0, 0, 2, 2, 2, 2, 2, 2, 2, 2], [0, 0, 0, 2, 2, 2, 4, 4, 4, 4, 4], [0, 0, 0, 2, 2, 2, 4, 4, 4, 4, 4]]\n",
      "[[0, 0, 0, 0, 0, 0, 0, 0, 0, 0, 0], [0, 0, 0, 2, 2, 2, 2, 2, 2, 2, 2], [0, 0, 0, 2, 2, 2, 4, 4, 4, 4, 4], [0, 0, 0, 2, 2, 2, 4, 4, 4, 4, 4]]\n",
      "[[0, 0, 0, 0, 0, 0, 0, 0, 0, 0, 0], [0, 0, 0, 2, 2, 2, 2, 2, 2, 2, 2], [0, 0, 0, 2, 2, 2, 4, 4, 4, 4, 4], [0, 0, 0, 2, 2, 2, 4, 4, 4, 4, 4]]\n",
      "[[0, 0, 0, 0, 0, 0, 0, 0, 0, 0, 0], [0, 0, 0, 2, 2, 2, 2, 2, 2, 2, 2], [0, 0, 0, 2, 2, 2, 4, 4, 4, 4, 4], [0, 0, 0, 2, 2, 2, 4, 4, 4, 4, 4]]\n",
      "[[0, 0, 0, 0, 0, 0, 0, 0, 0, 0, 0], [0, 0, 0, 2, 2, 2, 2, 2, 2, 2, 2], [0, 0, 0, 2, 2, 2, 4, 4, 4, 4, 4], [0, 0, 0, 2, 2, 2, 4, 4, 4, 4, 4]]\n",
      "[[0, 0, 0, 0, 0, 0, 0, 0, 0, 0, 0], [0, 0, 0, 2, 2, 2, 2, 2, 2, 2, 2], [0, 0, 0, 2, 2, 2, 4, 4, 4, 4, 4], [0, 0, 0, 2, 2, 2, 4, 4, 4, 4, 4]]\n",
      "[[0, 0, 0, 0, 0, 0, 0, 0, 0, 0, 0], [0, 0, 0, 2, 2, 2, 2, 2, 2, 2, 2], [0, 0, 0, 2, 2, 2, 4, 4, 4, 4, 4], [0, 0, 0, 2, 2, 2, 4, 4, 4, 6, 4]]\n",
      "[[0, 0, 0, 0, 0, 0, 0, 0, 0, 0, 0], [0, 0, 0, 2, 2, 2, 2, 2, 2, 2, 2], [0, 0, 0, 2, 2, 2, 4, 4, 4, 4, 4], [0, 0, 0, 2, 2, 2, 4, 4, 4, 6, 6]]\n",
      "6\n"
     ]
    }
   ],
   "source": [
    "'''\n",
    "ナップサック問題\n",
    "\n",
    "NN 個の品物がある。品物 i は重さ w[i]、価値 v[i] である。\n",
    "重さの総和が W 以下になるように品物を選ぶとき、選んだ品物の価値の総和の最大値を求めよ。\n",
    "'''\n",
    "\n",
    "N, W = map(int, input().split())\n",
    "\n",
    "dp = [[0]*(W+1) for i in range(N+1)]\n",
    "\n",
    "for i in range(N):\n",
    "    w, v = map(int, input().split())\n",
    "    for j in range(W+1):\n",
    "        #i 番目までの品物から重さの合計が j 以下になるように選んだ場合の合計価値の最大値i 番目までの品物から重さの合計が j 以下になるように選んだ場合の合計価値の最大値\n",
    "        dp[i+1][j] = dp[i][j]\n",
    "        if j >= w:\n",
    "            dp[i+1][j] = max(dp[i+1][j], dp[i][j-w] + v)\n",
    "\n",
    "\n"
   ],
   "metadata": {
    "collapsed": false,
    "pycharm": {
     "name": "#%%\n"
    }
   }
  },
  {
   "cell_type": "code",
   "execution_count": null,
   "outputs": [],
   "source": [
    "### AtCounter\n",
    "\n",
    "n = int(input())\n",
    "s = input()\n",
    "\n",
    "\n",
    "for i in range(2**n):\n",
    "\n",
    "\n",
    "\n",
    "\n",
    "\n",
    "\n"
   ],
   "metadata": {
    "collapsed": false,
    "pycharm": {
     "name": "#%%\n"
    }
   }
  }
 ],
 "metadata": {
  "kernelspec": {
   "display_name": "Python 3",
   "language": "python",
   "name": "python3"
  },
  "language_info": {
   "codemirror_mode": {
    "name": "ipython",
    "version": 2
   },
   "file_extension": ".py",
   "mimetype": "text/x-python",
   "name": "python",
   "nbconvert_exporter": "python",
   "pygments_lexer": "ipython2",
   "version": "2.7.6"
  }
 },
 "nbformat": 4,
 "nbformat_minor": 0
}