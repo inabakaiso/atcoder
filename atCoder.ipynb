{
 "cells": [
  {
   "cell_type": "markdown",
   "metadata": {
    "collapsed": true,
    "pycharm": {
     "name": "#%% md\n"
    }
   },
   "source": [
    "##　典型問題 90問"
   ]
  },
  {
   "cell_type": "code",
   "execution_count": 8,
   "outputs": [
    {
     "name": "stdout",
     "output_type": "stream",
     "text": [
      "100 50 0\n",
      "50 25 0\n",
      "50 37 25\n",
      "50 43 37\n",
      "50 46 43\n",
      "50 48 46\n",
      "48 47 46\n",
      "46\n"
     ]
    }
   ],
   "source": [
    "###########################\n",
    "#  1. Yokan\n",
    "###########################\n",
    "\n",
    "## solution => ようかんの最小値をスコアとしてそのスコアの最大を求めればよい。(二分探索法)\n",
    "\n",
    "##input\n",
    "n, l = map(int, input().split())\n",
    "k = int(input())\n",
    "a = list(map(int, input().split()))\n",
    "\n",
    "def solve(mid):\n",
    "    \"\"\" ある羊羹の切れ目の間隔の最小値候補が条件を満たすか否かを判定する\n",
    "    Args:\n",
    "        mid (int): [羊羹の切れ目の間隔の最小値候補]\n",
    "    Returns:\n",
    "        boolean: [判定対象のindex が条件を満たすかどうか]\n",
    "    \"\"\"\n",
    "    tmp_val = 0 # 切った羊羹の長さ\n",
    "    cut_cnt = 0 # 羊羹を切る数\n",
    "    for i in range(n):\n",
    "        if a[i] - tmp_val >= mid and l - a[i] >= mid:\n",
    "            cut_cnt += 1\n",
    "            tmp_val = a[i]\n",
    "    if cut_cnt >= k:\n",
    "        return True\n",
    "    else:\n",
    "        False\n",
    "right = l\n",
    "left = 0\n",
    "while right - left > 1:\n",
    "    mid = (right + left) // 2\n",
    "    print(right,mid, left)\n",
    "    if solve(mid):\n",
    "        left = mid\n",
    "    else:\n",
    "        right = mid\n",
    "print(left)"
   ],
   "metadata": {
    "collapsed": false,
    "pycharm": {
     "name": "#%%\n"
    }
   }
  },
  {
   "cell_type": "code",
   "execution_count": 10,
   "outputs": [
    {
     "name": "stdout",
     "output_type": "stream",
     "text": [
      "(())\n",
      "()()\n"
     ]
    }
   ],
   "source": [
    "##################################\n",
    "#   Encyclopedia of Parentheses  #\n",
    "##################################\n",
    "\n",
    "from itertools import product\n",
    "\n",
    "# input => element about ()\n",
    "n = int(input())\n",
    "\n",
    "\"\"\"\n",
    "　完全なるbit全探索問題\n",
    "2**N通りに場合分けすることが可能\n",
    "この類の問題はscoreを用いて出現回数によってscoreが0以上になる場合を評価していく\n",
    "\n",
    "Dividing case\n",
    "if n % 2 == 0  :  correct\n",
    "else : not correct\n",
    "and n is not 0\n",
    "\"\"\"\n",
    "\n",
    "def check_score(val):\n",
    "    score = 0\n",
    "    for c in val:\n",
    "        if c == '(':\n",
    "            score += 1\n",
    "        else:\n",
    "            score -= 1\n",
    "\n",
    "        if score < 0:\n",
    "            return False\n",
    "\n",
    "    return (score == 0)\n",
    "\n",
    "for val in product(['(', ')'], repeat=n):\n",
    "    if check_score(val):\n",
    "        ##　ここの表現初めて見た\n",
    "        ##  for分でネストさせたときにifで条件指定 => 条件通過するものだけ蓄積して連結させて出力\n",
    "        print(*val, sep='')"
   ],
   "metadata": {
    "collapsed": false,
    "pycharm": {
     "name": "#%%\n"
    }
   }
  },
  {
   "cell_type": "code",
   "execution_count": 7,
   "outputs": [
    {
     "name": "stdout",
     "output_type": "stream",
     "text": [
      "[0]\n",
      "[2]\n",
      "3\n"
     ]
    }
   ],
   "source": [
    "#########################################\n",
    "#  Longest Circular Road                #\n",
    "#########################################\n",
    "##　幅優先探索 (BFS)\n",
    "# グラフや木構造を探索するためのアルゴリズムの一つで、探索を開始する頂点から近い順に探索する方式。\n",
    "# http://www.dais.is.tohoku.ac.jp/~shioura/teaching/ad09/ad09-09.pdf\n",
    "\n",
    "### input => the num of city\n",
    "n = int(input())\n",
    "\n",
    "\n",
    "###　有向隣接グラフの作成\n",
    "#https://qiita.com/ell/items/2a327fe021fb7dafe07a\n",
    "\n",
    "#頂点の数回す\n",
    "graph = [[] for _ in range(n)]\n",
    "#辺の数だけfor文で回す\n",
    "for i in range(n-1):\n",
    "    a, b = map(int, input().split())\n",
    "    a, b = a - 1, b - 1\n",
    "    graph[a].append(b)\n",
    "    graph[b].append(a)  ##　今回は有向ではないので必要\n",
    "\n",
    "#　深さ幅優先探索\n",
    "def dfs(s):\n",
    "    dist = [-1] * n\n",
    "    dist[s] = 0\n",
    "    st = [s]\n",
    "    print(st)\n",
    "    while st:\n",
    "        #stは空配列\n",
    "        v = st.pop()\n",
    "        #グラフの0行目から探索\n",
    "        for nv in graph[v]:\n",
    "            if dist[nv] == -1:\n",
    "                st.append(nv)\n",
    "                dist[nv] = dist[v] + 1\n",
    "\n",
    "    return dist\n",
    "\n",
    "dist0 = dfs(0)\n",
    "mv = max(enumerate(dist0), key=lambda x:x[1])[0]\n",
    "distmv = dfs(mv)\n",
    "print(max(distmv) + 1)\n"
   ],
   "metadata": {
    "collapsed": false,
    "pycharm": {
     "name": "#%%\n"
    }
   }
  },
  {
   "cell_type": "code",
   "execution_count": 2,
   "outputs": [
    {
     "name": "stdout",
     "output_type": "stream",
     "text": [
      "deque(['k'])\n",
      "deque(['k'])\n",
      "deque(['i'])\n",
      "deque(['i', 't'])\n",
      "deque(['i', 't', 't'])\n",
      "deque(['i', 't', 't', 'y'])\n",
      "deque(['i', 't', 't', 'y'])\n",
      "deque(['i', 't', 't'])\n",
      "deque(['i', 't'])\n",
      "deque(['i', 'o'])\n",
      "deque(['i', 'o'])\n",
      "deque(['i', 'n'])\n",
      "deque(['i', 'n', 'y'])\n",
      "deque(['i', 'n', 'y'])\n",
      "deque(['i', 'n', 'o'])\n",
      "deque(['i', 'n', 'o', 'u'])\n",
      "deque(['n', 'o', 'u'])\n",
      "deque(['n', 'o', 'r'])\n",
      "deque(['o', 'r'])\n",
      "deque(['o'])\n",
      "deque(['l'])\n",
      "deque(['a'])\n",
      "deque(['p'])\n",
      "inlap\n"
     ]
    }
   ],
   "source": [
    "## Smallest Subsequence\n",
    "\n",
    "#solution\n",
    "# 文字列s内で文字を1つずつ抽出し、それらのなかで辞書順を作る\n",
    "\n",
    "from collections import deque\n",
    "\n",
    "n, k = map(int, input().split())\n",
    "\n",
    "s = input()\n",
    "q = deque()\n",
    "\n",
    "word = ''\n",
    "\n",
    "for i, j in enumerate(s):\n",
    "    # リストが空になるまでループ\n",
    "    while q and (q[-1] > j):\n",
    "        #リスト最初の要素を削除して取り出す\n",
    "        # insert(0, v)　先頭に要素を追加する\n",
    "        print(q)\n",
    "        q.pop()\n",
    "    q.append(j)\n",
    "    print(q)\n",
    "\n",
    "    #　n -k　によって確実にk個抽出できるようにしている\n",
    "    if i >= n - k:\n",
    "        word += q.popleft()\n",
    "\n",
    "print(word)\n"
   ],
   "metadata": {
    "collapsed": false,
    "pycharm": {
     "name": "#%%\n"
    }
   }
  },
  {
   "cell_type": "code",
   "execution_count": 16,
   "outputs": [
    {
     "name": "stdout",
     "output_type": "stream",
     "text": [
      "1\n",
      "2\n",
      "1\n",
      "999\n"
     ]
    }
   ],
   "source": [
    "## CP Classes\n",
    "import numpy as np\n",
    "\n",
    "from bisect import bisect_left\n",
    "N = int(input())\n",
    "A = list(map(int, input().split()))\n",
    "Q = int(input())\n",
    "A.sort()\n",
    "for _ in range(Q):\n",
    "    b = int(input())\n",
    "    # sort したときに自身に一番近い数字のindexを返す\n",
    "    i = bisect_left(A, b)\n",
    "    print(i)\n",
    "    u = 10**18\n",
    "    if i < N:\n",
    "        u = min(u, np.abs(A[i] - b))\n",
    "    if i > 0:\n",
    "        u = min(u, np.abs(A[i - 1] - b))\n",
    "    print(u)"
   ],
   "metadata": {
    "collapsed": false,
    "pycharm": {
     "name": "#%%\n"
    }
   }
  },
  {
   "cell_type": "code",
   "execution_count": null,
   "outputs": [],
   "source": [],
   "metadata": {
    "collapsed": false,
    "pycharm": {
     "name": "#%%\n"
    }
   }
  }
 ],
 "metadata": {
  "kernelspec": {
   "display_name": "Python 3",
   "language": "python",
   "name": "python3"
  },
  "language_info": {
   "codemirror_mode": {
    "name": "ipython",
    "version": 2
   },
   "file_extension": ".py",
   "mimetype": "text/x-python",
   "name": "python",
   "nbconvert_exporter": "python",
   "pygments_lexer": "ipython2",
   "version": "2.7.6"
  }
 },
 "nbformat": 4,
 "nbformat_minor": 0
}