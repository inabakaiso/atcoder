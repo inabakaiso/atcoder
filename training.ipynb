{
 "cells": [
  {
   "cell_type": "code",
   "execution_count": null,
   "metadata": {
    "collapsed": true
   },
   "outputs": [],
   "source": [
    "import torch\n",
    "import torch.nn as nn\n",
    "import torch.nn.functional as F\n",
    "\n",
    "class UnfoldingLSTM(nn.ModuleList):\n",
    "    def __init__(self, args):\n",
    "        super(UnfoldingLSTM, self).__init__()\n",
    "\n",
    "        self.batch_size = 2\n",
    "        self.hidden_dim = 16\n",
    "        self.embedding_dim = 2\n",
    "        self.input_size = 4\n",
    "        self.sequence_length = 2\n",
    "\n",
    "        #Initialize Embedding Layer\n",
    "        self.embedding = nn.Embedding(self.input_size, self.embedding_dim, padding_idx=0)\n",
    "\n",
    "        #Initialize LSTM\n",
    "        self.lstm_cell = nn.LSTMCell(self.embedding_dim, self.hidden_dim)"
   ]
  }
 ],
 "metadata": {
  "kernelspec": {
   "display_name": "Python 3",
   "language": "python",
   "name": "python3"
  },
  "language_info": {
   "codemirror_mode": {
    "name": "ipython",
    "version": 2
   },
   "file_extension": ".py",
   "mimetype": "text/x-python",
   "name": "python",
   "nbconvert_exporter": "python",
   "pygments_lexer": "ipython2",
   "version": "2.7.6"
  }
 },
 "nbformat": 4,
 "nbformat_minor": 0
}